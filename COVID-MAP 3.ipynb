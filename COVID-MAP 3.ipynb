{
 "cells": [
  {
   "cell_type": "markdown",
   "metadata": {},
   "source": [
    "# TIME ANIMATION GIF"
   ]
  },
  {
   "cell_type": "code",
   "execution_count": null,
   "metadata": {},
   "outputs": [],
   "source": [
    "import geopandas as gpd\n",
    "import pandas as pd\n",
    "import matplotlib.pyplot as plt"
   ]
  },
  {
   "cell_type": "code",
   "execution_count": null,
   "metadata": {},
   "outputs": [],
   "source": [
    "#import shp file as GEOdataframe\n",
    "fp = '/Users/pietroaluffi/Documents/time_animation/ProvCM01012018/ProvCM01012018_WGS84.shp' \n",
    "map_df = gpd.read_file(fp)\n",
    "#map_df.plot(figsize=(40,20))"
   ]
  },
  {
   "cell_type": "code",
   "execution_count": null,
   "metadata": {},
   "outputs": [],
   "source": [
    "#import raw data from github\n",
    "df = pd.read_csv('https://raw.githubusercontent.com/pcm-dpc/COVID-19/master/dati-province/dpc-covid19-ita-province.csv')"
   ]
  },
  {
   "cell_type": "code",
   "execution_count": null,
   "metadata": {},
   "outputs": [],
   "source": []
  },
  {
   "cell_type": "code",
   "execution_count": null,
   "metadata": {},
   "outputs": [],
   "source": [
    "#create merged GEOdataframe (map+data)\n",
    "merged = map_df.set_index('SIGLA').join(df.set_index('sigla_provincia'))"
   ]
  },
  {
   "cell_type": "code",
   "execution_count": null,
   "metadata": {},
   "outputs": [],
   "source": [
    "#format time period\n",
    "days = merged['data'].dropna().unique()"
   ]
  },
  {
   "cell_type": "code",
   "execution_count": null,
   "metadata": {},
   "outputs": [],
   "source": [
    "merged.plot(column='totale_casi', cmap='Blues', figsize=(10,10), linewidth=0.8, edgecolor='0.8', vmin=120, vmax=1000,\n",
    "legend=True, norm=plt.Normalize(vmin=120, vmax=1000))"
   ]
  },
  {
   "cell_type": "code",
   "execution_count": null,
   "metadata": {
    "scrolled": false
   },
   "outputs": [],
   "source": [
    "# start the for loop to create one map per year\n",
    "output_path = '/Users/pietroaluffi/Documents/time_animation/maps'\n",
    "for day in days:\n",
    "    # create map, UDPATE: added plt.Normalize to keep the legend range the same for all maps\n",
    "    fig = merged[merged['data'] == day].plot(column='totale_casi', cmap='Blues', figsize=(10,10), linewidth=0.8, edgecolor='0.8', vmin=120, vmax=1000,\n",
    "legend=True, norm=plt.Normalize(vmin=120, vmax=1000))\n",
    "    \n",
    "    # remove axis of chart\n",
    "    fig.axis('off')\n",
    "    \n",
    "    # add a title\n",
    "    fig.set_title('COVID-19', \\\n",
    "              fontdict={'fontsize': '25',\n",
    "                         'fontweight' : '3'})\n",
    "    # position the annotation to the bottom left\n",
    "    fig.annotate(day[:10], \n",
    "            xy=(0.1, .225), xycoords='figure fraction',\n",
    "            horizontalalignment='left', verticalalignment='top',\n",
    "            fontsize=25)\n",
    "    # this will save the figure as a high-res png in the output path. you can also save as svg if you prefer.\n",
    "#     filepath = os.path.join(output_path, day+'_covid.jpg')\n",
    "#     chart = fig.get_figure()\n",
    "#     chart.savefig(filepath, dpi=300)\n",
    "\n"
   ]
  },
  {
   "cell_type": "code",
   "execution_count": null,
   "metadata": {
    "scrolled": true
   },
   "outputs": [],
   "source": [
    "'''\n",
    "create gif in terminal:\n",
    "\n",
    "convert -delay 60 -loop 0 (jpn files)\n",
    "\n",
    "\n",
    "new_map_normal.gif\n",
    "'''"
   ]
  },
  {
   "cell_type": "code",
   "execution_count": null,
   "metadata": {},
   "outputs": [],
   "source": []
  },
  {
   "cell_type": "code",
   "execution_count": null,
   "metadata": {},
   "outputs": [],
   "source": []
  },
  {
   "cell_type": "code",
   "execution_count": null,
   "metadata": {},
   "outputs": [],
   "source": []
  },
  {
   "cell_type": "code",
   "execution_count": null,
   "metadata": {},
   "outputs": [],
   "source": []
  }
 ],
 "metadata": {
  "kernelspec": {
   "display_name": "Python 3",
   "language": "python",
   "name": "python3"
  },
  "language_info": {
   "codemirror_mode": {
    "name": "ipython",
    "version": 3
   },
   "file_extension": ".py",
   "mimetype": "text/x-python",
   "name": "python",
   "nbconvert_exporter": "python",
   "pygments_lexer": "ipython3",
   "version": "3.7.3"
  }
 },
 "nbformat": 4,
 "nbformat_minor": 2
}
